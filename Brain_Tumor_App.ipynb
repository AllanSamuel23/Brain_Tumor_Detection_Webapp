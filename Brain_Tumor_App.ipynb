{
  "nbformat": 4,
  "nbformat_minor": 0,
  "metadata": {
    "colab": {
      "name": "Brain Tumor App.ipynb",
      "provenance": []
    },
    "kernelspec": {
      "name": "python3",
      "display_name": "Python 3"
    },
    "language_info": {
      "name": "python"
    }
  },
  "cells": [
    {
      "cell_type": "code",
      "source": [
        "import streamlit as st #importing streamlit and tensorflow\n",
        "import tensorflow as tf\n",
        "import cv2\n",
        "import keras\n",
        "from tensorflow.keras.models import Sequential\n",
        "from tensorflow.keras.layers import Dense, Dropout, Conv2D, MaxPooling2D, BatchNormalization, Flatten\n",
        "import numpy as np\n",
        "from PIL import Image ,ImageOps\n",
        "import pickle\n",
        "\n",
        "st.set_option('deprecation.showfileUploaderEncoding',False)\n",
        "\n",
        "@st.cache(allow_output_mutation=True) \n",
        "\n",
        "def load_model(): #loading our model\n",
        "  model = tf.keras.models.load_model('/gdrive/MyDrive/brain_tumor/tumormodel/brain_tumor_model_hist.h5')\n",
        "  return model\n",
        "\n",
        "  model = load_model()\n",
        "\n",
        "st.title(\"Brain Tumor Detection\")\n",
        "\n",
        "\n",
        "st.write(\"\"\"\n",
        "Brain Tumors are complex. There are a lot of abnormalities in the sizes and location of the brain tumor(s). \n",
        "This makes it really difficult for complete understanding of the nature of the tumor. \n",
        "Also, a professional Neurosurgeon is required for MRI analysis. \n",
        "Often times in developing countries the lack of skillful doctors and lack of knowledge about tumors makes it \n",
        "really challenging and time-consuming to generate reports from MRI’.\n",
        "So an automated system on Cloud can solve this problem.\n",
        "Application of automated classification techniques using Machine Learning(ML) and Artificial Intelligence(AI)has \n",
        "consistently shown higher accuracy than manual classification. \n",
        "Hence, proposing a system performing detection and classification by using Deep Learning Algorithms \n",
        "using ConvolutionNeural Network (CNN), Artificial Neural Network (ANN), and TransferLearning (TL) would be \n",
        "helpful to doctors all around the world.\n",
        "\n",
        "\"\"\")\n"
      ],
      "metadata": {
        "id": "Cvl-fyBIq2lg"
      },
      "execution_count": 7,
      "outputs": []
    },
    {
      "cell_type": "code",
      "source": [
        "file=st.file_uploader(\"Please upload your MRI Scan\",type = [\"jpg\",\"png\"]) #accepting the image input from the user\n",
        "\n",
        "def import_and_predict(image_data,model): #our prediction method that will accept the data and the model and would give us a prediction\n",
        "  size = (150,150)\n",
        "  image1 = ImageOps.fit(image_data,size,Image.ANTIALIAS)\n",
        "  image = ImageOps.grayscale(image1)\n",
        "  img = np.asarray(image)\n",
        "  img_reshape = img[np.newaxis,...]\n",
        "  #img_reshape = img_reshape/255.0\n",
        "  img_reshape = img.reshape(1,150,150,1)\n",
        "  prediction = model.predict(img_reshape)\n",
        "  return prediction\n",
        "\n",
        "if file is None:\n",
        "  st.markdown(\"<h5 style='text-align: center; color: Black;'>Please Upload a File</h5>\", unsafe_allow_html=True)\n",
        "else:\n",
        "  image = Image.open(file)\n",
        "  st.image(image,use_column_width = True)\n",
        "  predictions = import_and_predict(image,model)\n",
        "  class_names = ['glioma_tumor','meningioma_tumor','no_tumor','pituitary_tumor']\n",
        "  string = \"The patient most likely has:\"+ class_names[np.argmax(predictions)]\n",
        "  st.success(string)\n",
        "  #st.success(predictions)"
      ],
      "metadata": {
        "id": "rBGF7KFGtJee"
      },
      "execution_count": 8,
      "outputs": []
    },
    {
      "cell_type": "code",
      "source": [
        ""
      ],
      "metadata": {
        "id": "s-XK4cCRtgBL"
      },
      "execution_count": null,
      "outputs": []
    }
  ]
}